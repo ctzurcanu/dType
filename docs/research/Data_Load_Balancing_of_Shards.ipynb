{
 "cells": [
  {
   "cell_type": "markdown",
   "metadata": {
    "collapsed": false
   },
   "source": [
    "# dType Data Balancing on Shards"
   ]
  },
  {
   "cell_type": "code",
   "execution_count": 21,
   "metadata": {
    "collapsed": false,
    "scrolled": true
   },
   "outputs": [
   ],
   "source": [
    "import random"
   ]
  },
  {
   "cell_type": "code",
   "execution_count": 22,
   "metadata": {
    "collapsed": false
   },
   "outputs": [
   ],
   "source": [
    "shard_count = 20\n",
    "dtype_count = 100\n",
    "max_shard_load = 400\n",
    "max_dtype_load = 2000\n",
    "\n",
    "# Increase average_coef if there are not enough shards for all dtypes \n",
    "average_coef = 1.2"
   ]
  },
  {
   "cell_type": "code",
   "execution_count": 23,
   "metadata": {
    "collapsed": false,
    "scrolled": true
   },
   "outputs": [
    {
     "name": "stdout",
     "output_type": "stream",
     "text": [
      "shard_loads_initial [(0, 53), (1, 137), (2, 217), (3, 308), (4, 325), (5, 175), (6, 11), (7, 94), (8, 90), (9, 372), (10, 335), (11, 100), (12, 330), (13, 286), (14, 142), (15, 79), (16, 201), (17, 352), (18, 19), (19, 43)]\n",
      "dtype_loads_initial [(0, 610), (1, 615), (2, 1642), (3, 134), (4, 1758), (5, 859), (6, 1788), (7, 1776), (8, 1181), (9, 702), (10, 83), (11, 828), (12, 1573), (13, 833), (14, 448), (15, 101), (16, 1699), (17, 1242), (18, 97), (19, 709), (20, 1404), (21, 1051), (22, 475), (23, 928), (24, 1975), (25, 719), (26, 643), (27, 1611), (28, 1323), (29, 1333), (30, 335), (31, 124), (32, 587), (33, 1775), (34, 690), (35, 213), (36, 1933), (37, 80), (38, 1897), (39, 318), (40, 949), (41, 860), (42, 1280), (43, 1289), (44, 698), (45, 1792), (46, 1182), (47, 649), (48, 252), (49, 1997), (50, 916), (51, 297), (52, 89), (53, 220), (54, 214), (55, 97), (56, 587), (57, 1989), (58, 426), (59, 536), (60, 1524), (61, 993), (62, 1236), (63, 1617), (64, 113), (65, 306), (66, 969), (67, 1311), (68, 1321), (69, 1182), (70, 259), (71, 1012), (72, 383), (73, 241), (74, 778), (75, 564), (76, 1301), (77, 972), (78, 560), (79, 1119), (80, 1695), (81, 1209), (82, 1741), (83, 979), (84, 306), (85, 1044), (86, 334), (87, 242), (88, 625), (89, 892), (90, 675), (91, 1661), (92, 1257), (93, 943), (94, 1368), (95, 1303), (96, 785), (97, 429), (98, 154), (99, 781)]\n"
     ]
    }
   ],
   "source": [
    "# Initialize random load values for shards and dtypes\n",
    "shard_loads_initial = list(enumerate([random.randrange(i, max_shard_load) for i in range(shard_count)]))\n",
    "dtype_loads_initial = list(enumerate([random.randrange(i, max_dtype_load) for i in range(dtype_count)]))\n",
    "shards = [[] for i in range(shard_count)]\n",
    "\n",
    "print('shard_loads_initial', shard_loads_initial)\n",
    "print('dtype_loads_initial', dtype_loads_initial)"
   ]
  },
  {
   "cell_type": "code",
   "execution_count": 24,
   "metadata": {
    "collapsed": false,
    "scrolled": true
   },
   "outputs": [
    {
     "name": "stdout",
     "output_type": "stream",
     "text": [
      "average_load_shard 5655.839999999999\n",
      "(shard_index, shard_load, dtype_indexes)\n",
      "final_shards [(6, 5619, [49, 37, 10, 52, 55, 18, 15, 64, 31, 3, 98, 35, 54, 53, 73, 87, 48, 70, 51, 84, 65]), (18, 5137, [57, 39, 86, 30, 72, 58, 97, 14, 22]), (19, 5419, [24, 59, 78, 75, 56, 32, 0]), (0, 5140, [36, 1, 88, 26, 47, 90]), (15, 5415, [38, 34, 44, 9, 19, 25]), (8, 4964, [45, 74, 99, 96, 11]), (7, 5232, [6, 13, 5, 41, 89]), (11, 5512, [7, 50, 23, 93, 40]), (1, 4695, [33, 66, 77, 83]), (14, 4807, [4, 61, 71, 85]), (5, 5092, [82, 21, 79, 8]), (16, 5272, [16, 69, 46, 81]), (2, 5430, [80, 62, 17, 92]), (13, 4230, [91, 42, 43]), (3, 4246, [2, 76, 95]), (4, 4249, [63, 67, 68]), (12, 4267, [27, 28, 29]), (10, 4345, [12, 94, 20]), (17, 1524, [60]), (9, 0, [])]\n"
     ]
    }
   ],
   "source": [
    "next_index_s = 0\n",
    "next_index_dt = 0\n",
    "last_index_dt = len(dtype_loads_initial) - 1\n",
    "last_index_s = len(shard_loads_initial) - 1\n",
    "\n",
    "# Sort loads: ascending for shards, descending for dtypes\n",
    "shard_loads = sorted(shard_loads_initial, key=lambda tup: tup[1])\n",
    "dtype_loads = sorted(dtype_loads_initial, key=lambda tup: tup[1], reverse=True)\n",
    "\n",
    "# Calculate average count per shard\n",
    "average_load_shard = (sum(i[1] for i in dtype_loads) + sum(i[1] for i in shard_loads)) / shard_count\n",
    "average_load_shard *= average_coef\n",
    "print('average_load_shard', average_load_shard)\n",
    "\n",
    "# Move heavier than average dtypes on the least heaviest shards\n",
    "for i, dload in dtype_loads:\n",
    "    if dload >= average_load_shard:\n",
    "        shards[next_index_s].append(i)\n",
    "        next_index_s += 1\n",
    "        next_index_dt += 1\n",
    "\n",
    "\n",
    "# Pair heaviest dtypes with lightest shards\n",
    "# and add as many light dtypes on top, as possible\n",
    "for i, dload in dtype_loads[next_index_dt:]:\n",
    "    if last_index_s < next_index_s:\n",
    "        print('Needs more shards. Increase average_coef');\n",
    "        break\n",
    "\n",
    "    # Add the next heaviest dtype to the next lightest shard\n",
    "    shards[next_index_s].append(i)\n",
    "\n",
    "    # Add as many light dtypes as the average_load_shard permits\n",
    "    load = shard_loads[next_index_s][1] + dload + dtype_loads[last_index_dt][1]\n",
    "    while last_index_dt > next_index_dt and load <= average_load_shard:\n",
    "        shards[next_index_s].append(dtype_loads[last_index_dt][0])\n",
    "        last_index_dt -= 1\n",
    "        load += dtype_loads[last_index_dt][1]\n",
    "\n",
    "    next_index_s += 1\n",
    "    next_index_dt += 1\n",
    "    if next_index_dt > last_index_dt:\n",
    "        break\n",
    "\n",
    "print('(shard_index, shard_load, dtype_indexes)')\n",
    "\n",
    "final_shards = [(shard_loads[x][0], sum([dtype_loads_initial[dtype_index][1] for dtype_index in shards[x]]), shards[x]) for x, _ in enumerate(shards)]\n",
    "\n",
    "print('final_shards', final_shards)"
   ]
  },
  {
   "cell_type": "code",
   "execution_count": 0,
   "metadata": {
    "collapsed": false
   },
   "outputs": [
   ],
   "source": [
   ]
  }
 ],
 "metadata": {
  "kernelspec": {
   "display_name": "Python 3 (system-wide)",
   "language": "python",
   "metadata": {
    "cocalc": {
     "description": "Python 3 programming language",
     "priority": 100,
     "url": "https://www.python.org/"
    }
   },
   "name": "python3"
  },
  "language_info": {
   "codemirror_mode": {
    "name": "ipython",
    "version": 3
   },
   "file_extension": ".py",
   "mimetype": "text/x-python",
   "name": "python",
   "nbconvert_exporter": "python",
   "pygments_lexer": "ipython3",
   "version": "3.6.8"
  }
 },
 "nbformat": 4,
 "nbformat_minor": 0
}