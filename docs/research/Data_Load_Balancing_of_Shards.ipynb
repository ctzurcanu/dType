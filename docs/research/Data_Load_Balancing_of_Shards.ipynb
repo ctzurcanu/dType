{
 "cells": [
  {
   "cell_type": "markdown",
   "metadata": {
    "collapsed": false
   },
   "source": [
    "# dType Data Balancing on Shards"
   ]
  },
  {
   "cell_type": "code",
   "execution_count": 102,
   "metadata": {
    "collapsed": false,
    "scrolled": true
   },
   "outputs": [
   ],
   "source": [
    "import random"
   ]
  },
  {
   "cell_type": "code",
   "execution_count": 103,
   "metadata": {
    "collapsed": false
   },
   "outputs": [
   ],
   "source": [
    "shard_count = 20\n",
    "dtype_count = 100\n",
    "max_shard_load = 400\n",
    "max_dtype_load = 2000\n",
    "average_coef = 1.2"
   ]
  },
  {
   "cell_type": "code",
   "execution_count": 104,
   "metadata": {
    "collapsed": false,
    "scrolled": true
   },
   "outputs": [
    {
     "name": "stdout",
     "output_type": "stream",
     "text": [
      "shard_loads_initial [(0, 218), (1, 174), (2, 210), (3, 275), (4, 224), (5, 129), (6, 59), (7, 382), (8, 260), (9, 306), (10, 231), (11, 82), (12, 72), (13, 161), (14, 152), (15, 308), (16, 334), (17, 317), (18, 101), (19, 29)]\n",
      "dtype_loads_initial [(0, 1100), (1, 1467), (2, 701), (3, 1917), (4, 1028), (5, 741), (6, 1356), (7, 1849), (8, 1158), (9, 709), (10, 560), (11, 1751), (12, 1682), (13, 1850), (14, 617), (15, 1922), (16, 1516), (17, 488), (18, 458), (19, 167), (20, 1761), (21, 280), (22, 1664), (23, 845), (24, 639), (25, 64), (26, 880), (27, 603), (28, 1740), (29, 1613), (30, 950), (31, 1563), (32, 1198), (33, 669), (34, 1391), (35, 427), (36, 1372), (37, 87), (38, 1919), (39, 1726), (40, 1171), (41, 46), (42, 1342), (43, 226), (44, 981), (45, 813), (46, 536), (47, 1819), (48, 1062), (49, 1955), (50, 160), (51, 494), (52, 1023), (53, 460), (54, 1206), (55, 1257), (56, 1150), (57, 719), (58, 253), (59, 319), (60, 1261), (61, 1034), (62, 1875), (63, 100), (64, 1746), (65, 228), (66, 507), (67, 159), (68, 249), (69, 384), (70, 1506), (71, 231), (72, 1832), (73, 948), (74, 87), (75, 638), (76, 989), (77, 378), (78, 1711), (79, 1299), (80, 1154), (81, 742), (82, 1272), (83, 1513), (84, 139), (85, 771), (86, 781), (87, 97), (88, 478), (89, 1466), (90, 445), (91, 1337), (92, 327), (93, 250), (94, 1309), (95, 1186), (96, 272), (97, 878), (98, 391), (99, 736)]\n"
     ]
    }
   ],
   "source": [
    "shard_loads_initial = list(enumerate([random.randrange(i, max_shard_load) for i in range(shard_count)]))\n",
    "dtype_loads_initial = list(enumerate([random.randrange(i, max_dtype_load) for i in range(dtype_count)]))\n",
    "shards = [[] for i in range(shard_count)]\n",
    "\n",
    "print('shard_loads_initial', shard_loads_initial)\n",
    "print('dtype_loads_initial', dtype_loads_initial)"
   ]
  },
  {
   "cell_type": "code",
   "execution_count": 105,
   "metadata": {
    "collapsed": false
   },
   "outputs": [
    {
     "name": "stdout",
     "output_type": "stream",
     "text": [
      "average_load_shard 8891.82\n"
     ]
    }
   ],
   "source": [
    "# Calculate average count per shard\n",
    "average_load_shard = (sum(i[1] for i in dtype_loads) + sum(i[1] for i in shard_loads)) / shard_count\n",
    "average_load_shard *= average_coef\n",
    "\n",
    "print('average_load_shard', average_load_shard)"
   ]
  },
  {
   "cell_type": "code",
   "execution_count": 106,
   "metadata": {
    "collapsed": false,
    "scrolled": true
   },
   "outputs": [
    {
     "name": "stdout",
     "output_type": "stream",
     "text": [
      "(shard_index, shard_load, dtype_indexes)\n",
      "final_shards [(19, 8639, [49, 41, 25, 74, 37, 87, 63, 84, 67, 50, 19, 43, 65, 71, 68, 93, 58, 96, 21, 59, 92, 77, 69, 98, 35, 90, 18, 53]), (6, 8151, [15, 88, 17, 51, 66, 46, 10, 27, 14, 75, 24, 33]), (12, 8632, [38, 2, 9, 57, 99, 5, 81, 85, 86, 45]), (11, 8388, [3, 23, 97, 26, 73, 30, 44, 76]), (18, 8272, [62, 52, 4, 61, 48, 0, 56]), (5, 7717, [13, 80, 8, 40, 95, 32]), (14, 8144, [7, 54, 55, 60, 82, 79]), (13, 8548, [72, 94, 91, 42, 6, 36]), (1, 7649, [47, 34, 89, 1, 70]), (2, 7966, [20, 83, 16, 31, 29]), (0, 8534, [11, 22, 12, 78, 39]), (4, 3486, [64, 28]), (10, 0, []), (8, 0, []), (3, 0, []), (9, 0, []), (15, 0, []), (17, 0, []), (16, 0, []), (7, 0, [])]\n"
     ]
    }
   ],
   "source": [
    "next_index_s = 0\n",
    "next_index_dt = 0\n",
    "last_index_dt = len(dtype_loads_initial) - 1\n",
    "last_index_s = len(shard_loads_initial) - 1\n",
    "\n",
    "# Sort first\n",
    "shard_loads = sorted(shard_loads_initial, key=lambda tup: tup[1])\n",
    "dtype_loads = sorted(dtype_loads_initial, key=lambda tup: tup[1], reverse=True)\n",
    "\n",
    "# Move heavier than average dtypes on the least heaviest shards\n",
    "for i, dload in dtype_loads:\n",
    "    if dload >= average_load_shard:\n",
    "        shards[next_index_s].append(i)\n",
    "        next_index_s += 1\n",
    "        next_index_dt += 1\n",
    "\n",
    "\n",
    "# \n",
    "for i, dload in dtype_loads[next_index_dt:]:\n",
    "    if last_index_s < next_index_s:\n",
    "        print('Needs more shards. Increase average_coef');\n",
    "        break\n",
    "    shards[next_index_s].append(i)\n",
    "    load = shard_loads[next_index_s][1] + dload + dtype_loads[last_index_dt][1]\n",
    "    while last_index_dt > next_index_dt and load <= average_load_shard:\n",
    "        shards[next_index_s].append(dtype_loads[last_index_dt][0])\n",
    "        last_index_dt -= 1\n",
    "        load += dtype_loads[last_index_dt][1]\n",
    "    next_index_s += 1\n",
    "    next_index_dt += 1\n",
    "    if next_index_dt > last_index_dt:\n",
    "        break\n",
    "\n",
    "print('(shard_index, shard_load, dtype_indexes)')\n",
    "final_shards = [(shard_loads[x][0], sum([dtype_loads_initial[dtype_index][1] for dtype_index in shards[x]]), shards[x]) for x, _ in enumerate(shards)]\n",
    "print('final_shards', final_shards)"
   ]
  },
  {
   "cell_type": "code",
   "execution_count": 0,
   "metadata": {
    "collapsed": false
   },
   "outputs": [
   ],
   "source": [
   ]
  }
 ],
 "metadata": {
  "kernelspec": {
   "display_name": "Python 3 (system-wide)",
   "language": "python",
   "metadata": {
    "cocalc": {
     "description": "Python 3 programming language",
     "priority": 100,
     "url": "https://www.python.org/"
    }
   },
   "name": "python3"
  },
  "language_info": {
   "codemirror_mode": {
    "name": "ipython",
    "version": 3
   },
   "file_extension": ".py",
   "mimetype": "text/x-python",
   "name": "python",
   "nbconvert_exporter": "python",
   "pygments_lexer": "ipython3",
   "version": "3.6.8"
  }
 },
 "nbformat": 4,
 "nbformat_minor": 0
}